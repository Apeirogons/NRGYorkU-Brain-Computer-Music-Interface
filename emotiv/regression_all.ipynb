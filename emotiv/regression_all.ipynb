{
 "metadata": {
  "language_info": {
   "codemirror_mode": {
    "name": "ipython",
    "version": 3
   },
   "file_extension": ".py",
   "mimetype": "text/x-python",
   "name": "python",
   "nbconvert_exporter": "python",
   "pygments_lexer": "ipython3",
   "version": "3.8.5"
  },
  "orig_nbformat": 4,
  "kernelspec": {
   "name": "python3",
   "display_name": "Python 3.8.5 64-bit ('MachineLearning': conda)"
  },
  "interpreter": {
   "hash": "04ff9afdc7d1490bf12a0db0e835ff63412e01e124c119117e88b34a3fc5e95d"
  }
 },
 "nbformat": 4,
 "nbformat_minor": 2,
 "cells": [
  {
   "cell_type": "code",
   "execution_count": 3,
   "metadata": {},
   "outputs": [],
   "source": [
    "# Imports\n",
    "import numpy as np\n",
    "from sklearn.preprocessing import MinMaxScaler\n",
    "from pyeeg import *\n",
    "import matplotlib.pyplot as plt\n",
    "from xgboost import XGBRegressor\n",
    "from sklearn.ensemble import RandomForestRegressor\n",
    "from sklearn.linear_model import LinearRegression\n",
    "from sklearn.model_selection import KFold\n",
    "from sklearn.metrics import r2_score\n",
    "import tsfresh\n",
    "import pandas as pd\n",
    "from utils.split import split_features_and_labels"
   ]
  },
  {
   "cell_type": "code",
   "execution_count": 15,
   "metadata": {},
   "outputs": [],
   "source": [
    "# Things associated with the GAMEEMO dataset\n",
    "electrodes = 'AF3 AF4 F3 F4 F7 F8 FC5 FC6 O1 O2 P7 P8 T7 T8'.split(' ')\n",
    "sample_rate = 128\n",
    "bands = [0.5, 4, 7, 12, 30, 50]"
   ]
  },
  {
   "cell_type": "code",
   "execution_count": 5,
   "metadata": {},
   "outputs": [
    {
     "output_type": "stream",
     "name": "stdout",
     "text": [
      "(112, 14, 38252)\n"
     ]
    }
   ],
   "source": [
    "# In summary, the resulting features are an array containing raw EEG data split into 5-second intervals. \n",
    "# (dimensionality of n subjects*n trials*slice_amt x n_electrodes x 128*5), which I'll call batch size.\n",
    "# and the labels are an array containing valence and arousal for each 5-second interval.\n",
    "# (dimensionality of n subjects*n trials*slice_amt x 2)\n",
    "\n",
    "eeg_splitted_features = np.load('gameemo_features.npy')\n",
    "eeg_splitted_labels = np.load('gameemo_labels.npy')\n",
    "print(eeg_splitted_features.shape)"
   ]
  },
  {
   "cell_type": "code",
   "execution_count": 6,
   "metadata": {},
   "outputs": [],
   "source": [
    "eeg_splitted_features, eeg_splitted_labels = split_features_and_labels(eeg_splitted_features, eeg_splitted_labels, sample_rate, 5)\n",
    "\n",
    "drop_locs = np.any(eeg_splitted_labels <0, axis=-1)\n",
    "eeg_splitted_features = eeg_splitted_features[np.logical_not(drop_locs)]\n",
    "eeg_splitted_labels = eeg_splitted_labels[np.logical_not(drop_locs)]"
   ]
  },
  {
   "cell_type": "code",
   "execution_count": 7,
   "metadata": {},
   "outputs": [],
   "source": [
    "# Labels are originally scaled between 1 and 5. We transform them between 0 and 1.\n",
    "scaled_labels = eeg_splitted_labels\n",
    "#scaled_labels = MinMaxScaler().fit_transform(eeg_splitted_labels)\n",
    "valence_labels = scaled_labels[:, 0]\n",
    "arousal_labels = scaled_labels[:, 1]"
   ]
  },
  {
   "source": [
    "\n",
    "# Extract power bands; we first flatten the first two dimensions to obtain a 2D array of voltage timeseries, we calculate band power for each electrode separately, then get the electrode dimension back. This gives us a dimensionality of (batch size x n electrodes x n bands)\n",
    "reshaped_features = np.reshape(eeg_splitted_features, [eeg_splitted_features.shape[0]*eeg_splitted_features.shape[1], eeg_splitted_features.shape[2]])\n",
    "extracted_powers = np.asarray([bin_power(X=feature, Band=bands,  Fs=sample_rate) for feature in reshaped_features])[:, 0, :]\n",
    "extracted_powers = np.reshape(extracted_powers, [eeg_splitted_features.shape[0], eeg_splitted_features.shape[1], extracted_powers.shape[1]])\n",
    "print(extracted_powers.shape)\n"
   ],
   "cell_type": "code",
   "metadata": {},
   "execution_count": 8,
   "outputs": [
    {
     "output_type": "stream",
     "name": "stdout",
     "text": [
      "(6549, 14, 5)\n"
     ]
    }
   ]
  },
  {
   "cell_type": "code",
   "execution_count": 25,
   "metadata": {},
   "outputs": [
    {
     "output_type": "stream",
     "name": "stdout",
     "text": [
      "['0.5-4|AF3' '4-7|AF3' '7-12|AF3' '12-30|AF3' '30-50|AF3' '0.5-4|AF4'\n '4-7|AF4' '7-12|AF4' '12-30|AF4' '30-50|AF4' '0.5-4|F3' '4-7|F3'\n '7-12|F3' '12-30|F3' '30-50|F3' '0.5-4|F4' '4-7|F4' '7-12|F4' '12-30|F4'\n '30-50|F4' '0.5-4|F7' '4-7|F7' '7-12|F7' '12-30|F7' '30-50|F7' '0.5-4|F8'\n '4-7|F8' '7-12|F8' '12-30|F8' '30-50|F8' '0.5-4|FC5' '4-7|FC5' '7-12|FC5'\n '12-30|FC5' '30-50|FC5' '0.5-4|FC6' '4-7|FC6' '7-12|FC6' '12-30|FC6'\n '30-50|FC6' '0.5-4|O1' '4-7|O1' '7-12|O1' '12-30|O1' '30-50|O1'\n '0.5-4|O2' '4-7|O2' '7-12|O2' '12-30|O2' '30-50|O2' '0.5-4|P7' '4-7|P7'\n '7-12|P7' '12-30|P7' '30-50|P7' '0.5-4|P8' '4-7|P8' '7-12|P8' '12-30|P8'\n '30-50|P8' '0.5-4|T7' '4-7|T7' '7-12|T7' '12-30|T7' '30-50|T7' '0.5-4|T8'\n '4-7|T8' '7-12|T8' '12-30|T8' '30-50|T8']\n"
     ]
    }
   ],
   "source": [
    "\n",
    "feature_names = np.asarray([[str(bands[x]) + '-' +str(bands[x+1]) + '|' + e for x in range(len(bands)-1)] for e in electrodes], dtype='object')\n",
    "feature_names = np.ravel(feature_names)\n",
    "print(feature_names)"
   ]
  },
  {
   "source": [
    "#extracted_entropy = np.asarray([dfa(feature) for feature in reshaped_features])\n",
    "#print(extracted_entropy.shape)"
   ],
   "cell_type": "code",
   "metadata": {},
   "execution_count": null,
   "outputs": []
  },
  {
   "cell_type": "code",
   "execution_count": 10,
   "metadata": {},
   "outputs": [],
   "source": [
    "# Then we flatten the last two dimensions, leaving some number of bands per electrode as the final feature for each data point.\n",
    "final_features = np.reshape(extracted_powers, [extracted_powers.shape[0], extracted_powers.shape[1]*extracted_powers.shape[2]])"
   ]
  },
  {
   "cell_type": "code",
   "execution_count": 11,
   "metadata": {},
   "outputs": [
    {
     "output_type": "stream",
     "name": "stdout",
     "text": [
      "Fold number 0\n",
      "Fold number 1\n",
      "Fold number 2\n",
      "Fold number 3\n",
      "Fold number 4\n",
      "Fold number 5\n",
      "Fold number 6\n",
      "Fold number 7\n",
      "Fold number 8\n",
      "Fold number 9\n"
     ]
    },
    {
     "output_type": "error",
     "ename": "TypeError",
     "evalue": "r2_score() missing 1 required positional argument: 'y_pred'",
     "traceback": [
      "\u001b[1;31m---------------------------------------------------------------------------\u001b[0m",
      "\u001b[1;31mTypeError\u001b[0m                                 Traceback (most recent call last)",
      "\u001b[1;32m<ipython-input-11-fd9137e5f2c9>\u001b[0m in \u001b[0;36m<module>\u001b[1;34m\u001b[0m\n\u001b[0;32m     24\u001b[0m     \u001b[0mall_predictions_arousal\u001b[0m\u001b[1;33m[\u001b[0m\u001b[0mtest_index\u001b[0m\u001b[1;33m]\u001b[0m \u001b[1;33m=\u001b[0m \u001b[0my_pred\u001b[0m\u001b[1;33m\u001b[0m\u001b[1;33m\u001b[0m\u001b[0m\n\u001b[0;32m     25\u001b[0m     \u001b[0mi\u001b[0m \u001b[1;33m+=\u001b[0m \u001b[1;36m1\u001b[0m\u001b[1;33m\u001b[0m\u001b[1;33m\u001b[0m\u001b[0m\n\u001b[1;32m---> 26\u001b[1;33m \u001b[0mprint\u001b[0m\u001b[1;33m(\u001b[0m\u001b[0mr2_score\u001b[0m\u001b[1;33m(\u001b[0m\u001b[0marousal_labels\u001b[0m\u001b[1;33m)\u001b[0m\u001b[1;33m,\u001b[0m \u001b[0mall_predictions_arousal\u001b[0m\u001b[1;33m)\u001b[0m\u001b[1;33m\u001b[0m\u001b[1;33m\u001b[0m\u001b[0m\n\u001b[0m",
      "\u001b[1;32m~\\miniconda3\\envs\\MachineLearning\\lib\\site-packages\\sklearn\\utils\\validation.py\u001b[0m in \u001b[0;36minner_f\u001b[1;34m(*args, **kwargs)\u001b[0m\n\u001b[0;32m     70\u001b[0m                           FutureWarning)\n\u001b[0;32m     71\u001b[0m         \u001b[0mkwargs\u001b[0m\u001b[1;33m.\u001b[0m\u001b[0mupdate\u001b[0m\u001b[1;33m(\u001b[0m\u001b[1;33m{\u001b[0m\u001b[0mk\u001b[0m\u001b[1;33m:\u001b[0m \u001b[0marg\u001b[0m \u001b[1;32mfor\u001b[0m \u001b[0mk\u001b[0m\u001b[1;33m,\u001b[0m \u001b[0marg\u001b[0m \u001b[1;32min\u001b[0m \u001b[0mzip\u001b[0m\u001b[1;33m(\u001b[0m\u001b[0msig\u001b[0m\u001b[1;33m.\u001b[0m\u001b[0mparameters\u001b[0m\u001b[1;33m,\u001b[0m \u001b[0margs\u001b[0m\u001b[1;33m)\u001b[0m\u001b[1;33m}\u001b[0m\u001b[1;33m)\u001b[0m\u001b[1;33m\u001b[0m\u001b[1;33m\u001b[0m\u001b[0m\n\u001b[1;32m---> 72\u001b[1;33m         \u001b[1;32mreturn\u001b[0m \u001b[0mf\u001b[0m\u001b[1;33m(\u001b[0m\u001b[1;33m**\u001b[0m\u001b[0mkwargs\u001b[0m\u001b[1;33m)\u001b[0m\u001b[1;33m\u001b[0m\u001b[1;33m\u001b[0m\u001b[0m\n\u001b[0m\u001b[0;32m     73\u001b[0m     \u001b[1;32mreturn\u001b[0m \u001b[0minner_f\u001b[0m\u001b[1;33m\u001b[0m\u001b[1;33m\u001b[0m\u001b[0m\n\u001b[0;32m     74\u001b[0m \u001b[1;33m\u001b[0m\u001b[0m\n",
      "\u001b[1;31mTypeError\u001b[0m: r2_score() missing 1 required positional argument: 'y_pred'"
     ]
    }
   ],
   "source": [
    "# We do k-fold cross validation, meaning that we hold out 10% of the data, train on the other 90%, and evaluate the model performance on the original 10%.\n",
    "# We repeat this process k times. \n",
    "# As we can see, there is some overfitting as the train R^2 is much higher than the test R^2.\n",
    "kf = KFold(n_splits=10, shuffle=True)\n",
    "i = 0\n",
    "importances =[]\n",
    "all_predictions_arousal = np.zeros((final_features.shape[0], ))\n",
    "for train_index, test_index in kf.split(final_features):\n",
    "    x_train = final_features[train_index]\n",
    "    y_train = arousal_labels[train_index]\n",
    "    x_test = final_features[test_index]\n",
    "    y_test = arousal_labels[test_index]\n",
    "\n",
    "    xgb =  XGBRegressor()\n",
    "    xgb.fit(x_train, y_train)\n",
    "    \n",
    "\n",
    "    print('Fold number ' + str(i))\n",
    "    y_pred = xgb.predict(x_train)\n",
    "  #  print('Train R^2: ' + str(r2_score(y_train, y_pred)))\n",
    "    y_pred = xgb.predict(x_test)\n",
    "  #  print('Test R^2: ' + str(r2_score(y_test, y_pred)))\n",
    "    importances.append(xgb.feature_importances_)\n",
    "    all_predictions_arousal[test_index] = y_pred\n",
    "    i += 1\n"
   ]
  },
  {
   "cell_type": "code",
   "execution_count": 12,
   "metadata": {},
   "outputs": [
    {
     "output_type": "stream",
     "name": "stdout",
     "text": [
      "0.6362681425062975\n"
     ]
    }
   ],
   "source": [
    "print(r2_score(arousal_labels,all_predictions_arousal))"
   ]
  },
  {
   "cell_type": "code",
   "execution_count": 28,
   "metadata": {},
   "outputs": [
    {
     "output_type": "execute_result",
     "data": {
      "text/plain": [
       "           mean_importances\n",
       "electrode                  \n",
       "O2                 0.202465\n",
       "T7                 0.193444\n",
       "F7                 0.178142\n",
       "O1                 0.161607\n",
       "F8                 0.161147\n",
       "P7                 0.156777\n",
       "FC5                0.149632\n",
       "FC6                0.140386\n",
       "AF3                0.136241\n",
       "T8                 0.130562\n",
       "P8                 0.124517\n",
       "F4                 0.113626\n",
       "F3                 0.077673\n",
       "AF4                0.073782"
      ],
      "text/html": "<div>\n<style scoped>\n    .dataframe tbody tr th:only-of-type {\n        vertical-align: middle;\n    }\n\n    .dataframe tbody tr th {\n        vertical-align: top;\n    }\n\n    .dataframe thead th {\n        text-align: right;\n    }\n</style>\n<table border=\"1\" class=\"dataframe\">\n  <thead>\n    <tr style=\"text-align: right;\">\n      <th></th>\n      <th>mean_importances</th>\n    </tr>\n    <tr>\n      <th>electrode</th>\n      <th></th>\n    </tr>\n  </thead>\n  <tbody>\n    <tr>\n      <th>O2</th>\n      <td>0.202465</td>\n    </tr>\n    <tr>\n      <th>T7</th>\n      <td>0.193444</td>\n    </tr>\n    <tr>\n      <th>F7</th>\n      <td>0.178142</td>\n    </tr>\n    <tr>\n      <th>O1</th>\n      <td>0.161607</td>\n    </tr>\n    <tr>\n      <th>F8</th>\n      <td>0.161147</td>\n    </tr>\n    <tr>\n      <th>P7</th>\n      <td>0.156777</td>\n    </tr>\n    <tr>\n      <th>FC5</th>\n      <td>0.149632</td>\n    </tr>\n    <tr>\n      <th>FC6</th>\n      <td>0.140386</td>\n    </tr>\n    <tr>\n      <th>AF3</th>\n      <td>0.136241</td>\n    </tr>\n    <tr>\n      <th>T8</th>\n      <td>0.130562</td>\n    </tr>\n    <tr>\n      <th>P8</th>\n      <td>0.124517</td>\n    </tr>\n    <tr>\n      <th>F4</th>\n      <td>0.113626</td>\n    </tr>\n    <tr>\n      <th>F3</th>\n      <td>0.077673</td>\n    </tr>\n    <tr>\n      <th>AF4</th>\n      <td>0.073782</td>\n    </tr>\n  </tbody>\n</table>\n</div>"
     },
     "metadata": {},
     "execution_count": 28
    }
   ],
   "source": [
    "df = pd.DataFrame()\n",
    "df['feature_name'] = feature_names\n",
    "df['mean_importances'] = np.sum(np.asarray(importances), axis=0)\n",
    "df['electrode'] = [x.split('|')[1] for x in df['feature_name']]\n",
    "df.groupby('electrode').mean().sort_values('mean_importances', ascending=False)\n",
    "#df = df.sort_values('mean_importances', ascending=False)\n",
    "#df\n"
   ]
  },
  {
   "source": [
    "# A plot of the label space, the valence and arousal.\n",
    "# The darker the blue, the more total labels are stacked on top of that point.\n",
    "\n",
    "plt.figure(figsize=(10, 10))\n",
    "plt.scatter(scaled_labels[:, 0], scaled_labels[:, 1], alpha=0.005)\n",
    "plt.xlabel('Valence')\n",
    "plt.ylabel('Arousal')"
   ],
   "cell_type": "markdown",
   "metadata": {}
  },
  {
   "source": [
    "plt.figure(figsize=(10, 10))\n",
    "\n",
    "plt.scatter(arousal_labels, np.expand_dims(all_predictions_arousal,axis=-1), alpha=0.02)\n",
    "plt.xlabel('True arousal')\n",
    "plt.ylabel('Predicted arousal')"
   ],
   "cell_type": "markdown",
   "metadata": {}
  },
  {
   "cell_type": "code",
   "execution_count": null,
   "metadata": {},
   "outputs": [],
   "source": []
  }
 ]
}