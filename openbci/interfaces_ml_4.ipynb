{
 "cells": [
  {
   "cell_type": "code",
   "execution_count": 1,
   "source": [
    "import numpy as np\r\n",
    "from pyeeg import bin_power\r\n",
    "\r\n",
    "import matplotlib.pyplot as plt\r\n",
    "from xgboost import XGBClassifier\r\n",
    "\r\n",
    "from sklearn.model_selection import KFold\r\n",
    "from sklearn.metrics import classification_report, f1_score\r\n",
    "import pandas as pd\r\n",
    "import pickle\r\n",
    "import os\r\n",
    "from IPython import display"
   ],
   "outputs": [],
   "metadata": {}
  },
  {
   "cell_type": "code",
   "execution_count": 2,
   "source": [
    "from sys import path\r\n",
    "path.append('../')\r\n",
    "from utils.average_classifier import *\r\n",
    "from utils.split_features_and_labels import split_features_and_labels_interfaces"
   ],
   "outputs": [],
   "metadata": {}
  },
  {
   "cell_type": "code",
   "execution_count": 3,
   "source": [
    "channels = \"Fp1,Fp2,Fz,Cz,T3,T4,Pz,Oz\".split(',')\r\n",
    "channels_to_use = 'Fp1,Fp2,T3,T4'.split(',') \r\n",
    "electrodes_idx = np.asarray([channels.index(e) for e in channels_to_use])\r\n",
    "channels = channels_to_use\r\n",
    "\r\n",
    "sampling_rate = 250\r\n",
    "seconds_to_predict = 5"
   ],
   "outputs": [],
   "metadata": {}
  },
  {
   "cell_type": "code",
   "execution_count": 4,
   "source": [
    "EEG = np.load('INTERFACES/EEG_ICA.npy')\r\n",
    "label_arousal = np.load('INTERFACES/label/arousal.npy')\r\n",
    "label_valence = np.load('INTERFACES/label/valence.npy')"
   ],
   "outputs": [],
   "metadata": {}
  },
  {
   "cell_type": "code",
   "execution_count": 5,
   "source": [
    "bands = ['3-7','8-13','14-29','30-47']\r\n",
    "feature_names = np.asarray([[str(bands[x]) + '|' + e for x in range(len(bands))] for e in channels], dtype='object')\r\n",
    "feature_names = np.ravel(feature_names)\r\n",
    "print(feature_names)"
   ],
   "outputs": [
    {
     "output_type": "stream",
     "name": "stdout",
     "text": [
      "['3-7|Fp1' '8-13|Fp1' '14-29|Fp1' '30-47|Fp1' '3-7|Fp2' '8-13|Fp2'\n",
      " '14-29|Fp2' '30-47|Fp2']\n"
     ]
    }
   ],
   "metadata": {}
  },
  {
   "cell_type": "code",
   "execution_count": 6,
   "source": [
    "importance_dfs = []"
   ],
   "outputs": [],
   "metadata": {}
  },
  {
   "cell_type": "code",
   "execution_count": 7,
   "source": [
    "use_last_npy = False\r\n",
    "feature_dump_file = 'interfaces_features_4.npy'\r\n",
    "EEG = EEG[:, electrodes_idx]\r\n",
    "\r\n",
    "splitted_features, splitted_labels_arousal = split_features_and_labels_interfaces(EEG, label_arousal, sampling_rate, seconds_to_predict)\r\n",
    "splitted_features, splitted_labels_valence = split_features_and_labels_interfaces(EEG, label_valence, sampling_rate, seconds_to_predict)\r\n",
    "\r\n",
    "if use_last_npy and os.path.exists(feature_dump_file):\r\n",
    "    final_features = np.load(feature_dump_file)\r\n",
    "else:\r\n",
    "    temp_reshaped = np.reshape(splitted_features, [splitted_features.shape[0]*splitted_features.shape[1]*splitted_features.shape[2], splitted_features.shape[3]])\r\n",
    "    powers = []\r\n",
    "    for i, sample in enumerate(temp_reshaped):\r\n",
    "        if i % 3000 == 0:\r\n",
    "            print('Progress: %s' % (str(np.round(i/len(temp_reshaped), 2))))\r\n",
    "        powers.append(bin_power(sample, [0, 999999], Fs=sampling_rate))\r\n",
    "\r\n",
    "    powers = np.asarray(powers)\r\n",
    "    powers = np.reshape(powers[:, 0, :], splitted_features.shape[:3])\r\n",
    "    powers = np.reshape(powers, [powers.shape[0], powers.shape[1] * powers.shape[2]])\r\n",
    "    final_features = powers\r\n",
    "\r\n",
    "    final_features.dump(feature_dump_file)\r\n"
   ],
   "outputs": [
    {
     "output_type": "stream",
     "name": "stdout",
     "text": [
      "Progress: 0.0\n",
      "Progress: 0.05\n",
      "Progress: 0.11\n",
      "Progress: 0.16\n",
      "Progress: 0.21\n",
      "Progress: 0.26\n",
      "Progress: 0.32\n",
      "Progress: 0.37\n",
      "Progress: 0.42\n",
      "Progress: 0.48\n",
      "Progress: 0.53\n",
      "Progress: 0.58\n",
      "Progress: 0.63\n",
      "Progress: 0.69\n",
      "Progress: 0.74\n",
      "Progress: 0.79\n",
      "Progress: 0.85\n",
      "Progress: 0.9\n",
      "Progress: 0.95\n"
     ]
    }
   ],
   "metadata": {}
  },
  {
   "cell_type": "code",
   "execution_count": 8,
   "source": [
    "importance_dfs = []\r\n",
    "for classification_type in ['valence', 'arousal']:\r\n",
    "    print('-------------------------------------------------------------------------')\r\n",
    "    print(classification_type)\r\n",
    "    final_features = powers\r\n",
    "    if classification_type == 'valence':\r\n",
    "        labels=splitted_labels_valence\r\n",
    "    elif classification_type == 'arousal':\r\n",
    "        labels=splitted_labels_arousal\r\n",
    "    kf = KFold(n_splits=10, shuffle=True)\r\n",
    "    i = 0\r\n",
    "    regressors = []\r\n",
    "    importances =[]\r\n",
    "    all_predictions_arousal = np.zeros((final_features.shape[0], ))\r\n",
    "    for train_index, test_index in kf.split(final_features):\r\n",
    "        x_train = final_features[train_index]\r\n",
    "        y_train = labels[train_index]\r\n",
    "        x_test = final_features[test_index]\r\n",
    "        y_test = labels[test_index]\r\n",
    "\r\n",
    "        xgb =  XGBClassifier(eval_metric='mlogloss')\r\n",
    "        xgb.fit(x_train, y_train)\r\n",
    "        \r\n",
    "\r\n",
    "        print('Fold number ' + str(i))\r\n",
    "        y_pred = xgb.predict(x_train)\r\n",
    "        print('Train F1: ' + str(f1_score(y_train, y_pred)))\r\n",
    "        y_pred = xgb.predict(x_test)\r\n",
    "        print('Test F1: ' + str(f1_score(y_test, y_pred)))\r\n",
    "        importances.append(xgb.feature_importances_)\r\n",
    "        all_predictions_arousal[test_index] = y_pred\r\n",
    "        regressors.append(xgb)\r\n",
    "        i += 1\r\n",
    "    print(classification_report(labels,all_predictions_arousal))\r\n",
    "\r\n",
    "\r\n",
    "    df = pd.DataFrame()\r\n",
    "    df['feature_name'] = feature_names\r\n",
    "    df['mean_importances'] = np.sum(np.asarray(importances), axis=0)\r\n",
    "    df['electrode'] = [x.split('|')[1] for x in df['feature_name']]\r\n",
    "    importance_dfs.append(df)\r\n",
    "\r\n",
    "    average_predictor = AverageXGBClassifier(regressors, feature_names)\r\n",
    "    print('This score should be high because of overfitting, but not low')\r\n",
    "    print(average_predictor.predict(final_features).shape)\r\n",
    "\r\n",
    "    print(f1_score(labels, average_predictor.predict(final_features)))\r\n",
    "    pickle.dump(average_predictor,open('average_classifier_%s.pkl' % (classification_type), 'wb'))\r\n",
    "\r\n"
   ],
   "outputs": [
    {
     "output_type": "stream",
     "name": "stdout",
     "text": [
      "-------------------------------------------------------------------------\n",
      "valence\n"
     ]
    },
    {
     "output_type": "stream",
     "name": "stderr",
     "text": [
      "C:\\Users\\somat\\miniconda3\\envs\\MachineLearning\\lib\\site-packages\\xgboost\\sklearn.py:888: UserWarning: The use of label encoder in XGBClassifier is deprecated and will be removed in a future release. To remove this warning, do the following: 1) Pass option use_label_encoder=False when constructing XGBClassifier object; and 2) Encode your labels (y) as integers starting with 0, i.e. 0, 1, 2, ..., [num_class - 1].\n",
      "  warnings.warn(label_encoder_deprecation_msg, UserWarning)\n"
     ]
    },
    {
     "output_type": "stream",
     "name": "stdout",
     "text": [
      "Fold number 0\n",
      "Train F1: 0.9252905368013281\n",
      "Test F1: 0.5821917808219178\n",
      "Fold number 1\n",
      "Train F1: 0.9319740500463393\n",
      "Test F1: 0.5804311774461027\n",
      "Fold number 2\n",
      "Train F1: 0.932367149758454\n",
      "Test F1: 0.5942275042444822\n",
      "Fold number 3\n",
      "Train F1: 0.92132311717436\n",
      "Test F1: 0.5918367346938774\n",
      "Fold number 4\n",
      "Train F1: 0.931893079458074\n",
      "Test F1: 0.5890652557319224\n",
      "Fold number 5\n",
      "Train F1: 0.9261469600895189\n",
      "Test F1: 0.5936981757877281\n",
      "Fold number 6\n",
      "Train F1: 0.9359044995408631\n",
      "Test F1: 0.6\n",
      "Fold number 7\n",
      "Train F1: 0.9241021843761569\n",
      "Test F1: 0.5799011532125206\n",
      "Fold number 8\n",
      "Train F1: 0.9303855289603508\n",
      "Test F1: 0.6091549295774648\n",
      "Fold number 9\n",
      "Train F1: 0.9300608968444364\n",
      "Test F1: 0.5547703180212014\n",
      "              precision    recall  f1-score   support\n",
      "\n",
      "           0       0.69      0.74      0.71      4026\n",
      "           1       0.62      0.56      0.59      3069\n",
      "\n",
      "    accuracy                           0.66      7095\n",
      "   macro avg       0.65      0.65      0.65      7095\n",
      "weighted avg       0.66      0.66      0.66      7095\n",
      "\n",
      "This score should be high because of overfitting, but not low\n",
      "(7095,)\n",
      "0.9395100816530579\n",
      "-------------------------------------------------------------------------\n",
      "arousal\n",
      "Fold number 0\n",
      "Train F1: 0.9155857963002338\n",
      "Test F1: 0.5082644628099174\n",
      "Fold number 1\n",
      "Train F1: 0.9188277461522243\n",
      "Test F1: 0.4935064935064935\n",
      "Fold number 2\n",
      "Train F1: 0.9229122055674518\n",
      "Test F1: 0.5436507936507936\n",
      "Fold number 3\n",
      "Train F1: 0.9224524674214911\n",
      "Test F1: 0.5\n",
      "Fold number 4\n",
      "Train F1: 0.9229140194832699\n",
      "Test F1: 0.5134575569358178\n"
     ]
    },
    {
     "output_type": "error",
     "ename": "KeyboardInterrupt",
     "evalue": "",
     "traceback": [
      "\u001b[1;31m---------------------------------------------------------------------------\u001b[0m",
      "\u001b[1;31mKeyboardInterrupt\u001b[0m                         Traceback (most recent call last)",
      "\u001b[1;32m<ipython-input-8-98009c8480bc>\u001b[0m in \u001b[0;36m<module>\u001b[1;34m\u001b[0m\n\u001b[0;32m     20\u001b[0m \u001b[1;33m\u001b[0m\u001b[0m\n\u001b[0;32m     21\u001b[0m         \u001b[0mxgb\u001b[0m \u001b[1;33m=\u001b[0m  \u001b[0mXGBClassifier\u001b[0m\u001b[1;33m(\u001b[0m\u001b[0meval_metric\u001b[0m\u001b[1;33m=\u001b[0m\u001b[1;34m'mlogloss'\u001b[0m\u001b[1;33m)\u001b[0m\u001b[1;33m\u001b[0m\u001b[1;33m\u001b[0m\u001b[0m\n\u001b[1;32m---> 22\u001b[1;33m         \u001b[0mxgb\u001b[0m\u001b[1;33m.\u001b[0m\u001b[0mfit\u001b[0m\u001b[1;33m(\u001b[0m\u001b[0mx_train\u001b[0m\u001b[1;33m,\u001b[0m \u001b[0my_train\u001b[0m\u001b[1;33m)\u001b[0m\u001b[1;33m\u001b[0m\u001b[1;33m\u001b[0m\u001b[0m\n\u001b[0m\u001b[0;32m     23\u001b[0m \u001b[1;33m\u001b[0m\u001b[0m\n\u001b[0;32m     24\u001b[0m \u001b[1;33m\u001b[0m\u001b[0m\n",
      "\u001b[1;32m~\\miniconda3\\envs\\MachineLearning\\lib\\site-packages\\xgboost\\core.py\u001b[0m in \u001b[0;36minner_f\u001b[1;34m(*args, **kwargs)\u001b[0m\n\u001b[0;32m    419\u001b[0m         \u001b[1;32mfor\u001b[0m \u001b[0mk\u001b[0m\u001b[1;33m,\u001b[0m \u001b[0marg\u001b[0m \u001b[1;32min\u001b[0m \u001b[0mzip\u001b[0m\u001b[1;33m(\u001b[0m\u001b[0msig\u001b[0m\u001b[1;33m.\u001b[0m\u001b[0mparameters\u001b[0m\u001b[1;33m,\u001b[0m \u001b[0margs\u001b[0m\u001b[1;33m)\u001b[0m\u001b[1;33m:\u001b[0m\u001b[1;33m\u001b[0m\u001b[1;33m\u001b[0m\u001b[0m\n\u001b[0;32m    420\u001b[0m             \u001b[0mkwargs\u001b[0m\u001b[1;33m[\u001b[0m\u001b[0mk\u001b[0m\u001b[1;33m]\u001b[0m \u001b[1;33m=\u001b[0m \u001b[0marg\u001b[0m\u001b[1;33m\u001b[0m\u001b[1;33m\u001b[0m\u001b[0m\n\u001b[1;32m--> 421\u001b[1;33m         \u001b[1;32mreturn\u001b[0m \u001b[0mf\u001b[0m\u001b[1;33m(\u001b[0m\u001b[1;33m**\u001b[0m\u001b[0mkwargs\u001b[0m\u001b[1;33m)\u001b[0m\u001b[1;33m\u001b[0m\u001b[1;33m\u001b[0m\u001b[0m\n\u001b[0m\u001b[0;32m    422\u001b[0m \u001b[1;33m\u001b[0m\u001b[0m\n\u001b[0;32m    423\u001b[0m     \u001b[1;32mreturn\u001b[0m \u001b[0minner_f\u001b[0m\u001b[1;33m\u001b[0m\u001b[1;33m\u001b[0m\u001b[0m\n",
      "\u001b[1;32m~\\miniconda3\\envs\\MachineLearning\\lib\\site-packages\\xgboost\\sklearn.py\u001b[0m in \u001b[0;36mfit\u001b[1;34m(self, X, y, sample_weight, base_margin, eval_set, eval_metric, early_stopping_rounds, verbose, xgb_model, sample_weight_eval_set, feature_weights, callbacks)\u001b[0m\n\u001b[0;32m    907\u001b[0m             eval_group=None, label_transform=label_transform)\n\u001b[0;32m    908\u001b[0m \u001b[1;33m\u001b[0m\u001b[0m\n\u001b[1;32m--> 909\u001b[1;33m         self._Booster = train(xgb_options, train_dmatrix,\n\u001b[0m\u001b[0;32m    910\u001b[0m                               \u001b[0mself\u001b[0m\u001b[1;33m.\u001b[0m\u001b[0mget_num_boosting_rounds\u001b[0m\u001b[1;33m(\u001b[0m\u001b[1;33m)\u001b[0m\u001b[1;33m,\u001b[0m\u001b[1;33m\u001b[0m\u001b[1;33m\u001b[0m\u001b[0m\n\u001b[0;32m    911\u001b[0m                               \u001b[0mevals\u001b[0m\u001b[1;33m=\u001b[0m\u001b[0mevals\u001b[0m\u001b[1;33m,\u001b[0m\u001b[1;33m\u001b[0m\u001b[1;33m\u001b[0m\u001b[0m\n",
      "\u001b[1;32m~\\miniconda3\\envs\\MachineLearning\\lib\\site-packages\\xgboost\\training.py\u001b[0m in \u001b[0;36mtrain\u001b[1;34m(params, dtrain, num_boost_round, evals, obj, feval, maximize, early_stopping_rounds, evals_result, verbose_eval, xgb_model, callbacks)\u001b[0m\n\u001b[0;32m    217\u001b[0m     \u001b[0mBooster\u001b[0m \u001b[1;33m:\u001b[0m \u001b[0ma\u001b[0m \u001b[0mtrained\u001b[0m \u001b[0mbooster\u001b[0m \u001b[0mmodel\u001b[0m\u001b[1;33m\u001b[0m\u001b[1;33m\u001b[0m\u001b[0m\n\u001b[0;32m    218\u001b[0m     \"\"\"\n\u001b[1;32m--> 219\u001b[1;33m     bst = _train_internal(params, dtrain,\n\u001b[0m\u001b[0;32m    220\u001b[0m                           \u001b[0mnum_boost_round\u001b[0m\u001b[1;33m=\u001b[0m\u001b[0mnum_boost_round\u001b[0m\u001b[1;33m,\u001b[0m\u001b[1;33m\u001b[0m\u001b[1;33m\u001b[0m\u001b[0m\n\u001b[0;32m    221\u001b[0m                           \u001b[0mevals\u001b[0m\u001b[1;33m=\u001b[0m\u001b[0mevals\u001b[0m\u001b[1;33m,\u001b[0m\u001b[1;33m\u001b[0m\u001b[1;33m\u001b[0m\u001b[0m\n",
      "\u001b[1;32m~\\miniconda3\\envs\\MachineLearning\\lib\\site-packages\\xgboost\\training.py\u001b[0m in \u001b[0;36m_train_internal\u001b[1;34m(params, dtrain, num_boost_round, evals, obj, feval, xgb_model, callbacks, evals_result, maximize, verbose_eval, early_stopping_rounds)\u001b[0m\n\u001b[0;32m    140\u001b[0m     \u001b[1;31m# Copy to serialise and unserialise booster to reset state and free\u001b[0m\u001b[1;33m\u001b[0m\u001b[1;33m\u001b[0m\u001b[1;33m\u001b[0m\u001b[0m\n\u001b[0;32m    141\u001b[0m     \u001b[1;31m# training memory\u001b[0m\u001b[1;33m\u001b[0m\u001b[1;33m\u001b[0m\u001b[1;33m\u001b[0m\u001b[0m\n\u001b[1;32m--> 142\u001b[1;33m     \u001b[1;32mreturn\u001b[0m \u001b[0mbst\u001b[0m\u001b[1;33m.\u001b[0m\u001b[0mcopy\u001b[0m\u001b[1;33m(\u001b[0m\u001b[1;33m)\u001b[0m\u001b[1;33m\u001b[0m\u001b[1;33m\u001b[0m\u001b[0m\n\u001b[0m\u001b[0;32m    143\u001b[0m \u001b[1;33m\u001b[0m\u001b[0m\n\u001b[0;32m    144\u001b[0m \u001b[1;33m\u001b[0m\u001b[0m\n",
      "\u001b[1;32m~\\miniconda3\\envs\\MachineLearning\\lib\\site-packages\\xgboost\\core.py\u001b[0m in \u001b[0;36mcopy\u001b[1;34m(self)\u001b[0m\n\u001b[0;32m   1154\u001b[0m             \u001b[0ma\u001b[0m \u001b[0mcopied\u001b[0m \u001b[0mbooster\u001b[0m \u001b[0mmodel\u001b[0m\u001b[1;33m\u001b[0m\u001b[1;33m\u001b[0m\u001b[0m\n\u001b[0;32m   1155\u001b[0m         \"\"\"\n\u001b[1;32m-> 1156\u001b[1;33m         \u001b[1;32mreturn\u001b[0m \u001b[0mself\u001b[0m\u001b[1;33m.\u001b[0m\u001b[0m__copy__\u001b[0m\u001b[1;33m(\u001b[0m\u001b[1;33m)\u001b[0m\u001b[1;33m\u001b[0m\u001b[1;33m\u001b[0m\u001b[0m\n\u001b[0m\u001b[0;32m   1157\u001b[0m \u001b[1;33m\u001b[0m\u001b[0m\n\u001b[0;32m   1158\u001b[0m     \u001b[1;32mdef\u001b[0m \u001b[0mload_rabit_checkpoint\u001b[0m\u001b[1;33m(\u001b[0m\u001b[0mself\u001b[0m\u001b[1;33m)\u001b[0m\u001b[1;33m:\u001b[0m\u001b[1;33m\u001b[0m\u001b[1;33m\u001b[0m\u001b[0m\n",
      "\u001b[1;32m~\\miniconda3\\envs\\MachineLearning\\lib\\site-packages\\xgboost\\core.py\u001b[0m in \u001b[0;36m__copy__\u001b[1;34m(self)\u001b[0m\n\u001b[0;32m   1140\u001b[0m \u001b[1;33m\u001b[0m\u001b[0m\n\u001b[0;32m   1141\u001b[0m     \u001b[1;32mdef\u001b[0m \u001b[0m__copy__\u001b[0m\u001b[1;33m(\u001b[0m\u001b[0mself\u001b[0m\u001b[1;33m)\u001b[0m\u001b[1;33m:\u001b[0m\u001b[1;33m\u001b[0m\u001b[1;33m\u001b[0m\u001b[0m\n\u001b[1;32m-> 1142\u001b[1;33m         \u001b[1;32mreturn\u001b[0m \u001b[0mself\u001b[0m\u001b[1;33m.\u001b[0m\u001b[0m__deepcopy__\u001b[0m\u001b[1;33m(\u001b[0m\u001b[1;32mNone\u001b[0m\u001b[1;33m)\u001b[0m\u001b[1;33m\u001b[0m\u001b[1;33m\u001b[0m\u001b[0m\n\u001b[0m\u001b[0;32m   1143\u001b[0m \u001b[1;33m\u001b[0m\u001b[0m\n\u001b[0;32m   1144\u001b[0m     \u001b[1;32mdef\u001b[0m \u001b[0m__deepcopy__\u001b[0m\u001b[1;33m(\u001b[0m\u001b[0mself\u001b[0m\u001b[1;33m,\u001b[0m \u001b[0m_\u001b[0m\u001b[1;33m)\u001b[0m\u001b[1;33m:\u001b[0m\u001b[1;33m\u001b[0m\u001b[1;33m\u001b[0m\u001b[0m\n",
      "\u001b[1;32m~\\miniconda3\\envs\\MachineLearning\\lib\\site-packages\\xgboost\\core.py\u001b[0m in \u001b[0;36m__deepcopy__\u001b[1;34m(self, _)\u001b[0m\n\u001b[0;32m   1144\u001b[0m     \u001b[1;32mdef\u001b[0m \u001b[0m__deepcopy__\u001b[0m\u001b[1;33m(\u001b[0m\u001b[0mself\u001b[0m\u001b[1;33m,\u001b[0m \u001b[0m_\u001b[0m\u001b[1;33m)\u001b[0m\u001b[1;33m:\u001b[0m\u001b[1;33m\u001b[0m\u001b[1;33m\u001b[0m\u001b[0m\n\u001b[0;32m   1145\u001b[0m         \u001b[1;34m'''Return a copy of booster.'''\u001b[0m\u001b[1;33m\u001b[0m\u001b[1;33m\u001b[0m\u001b[0m\n\u001b[1;32m-> 1146\u001b[1;33m         \u001b[1;32mreturn\u001b[0m \u001b[0mBooster\u001b[0m\u001b[1;33m(\u001b[0m\u001b[0mmodel_file\u001b[0m\u001b[1;33m=\u001b[0m\u001b[0mself\u001b[0m\u001b[1;33m)\u001b[0m\u001b[1;33m\u001b[0m\u001b[1;33m\u001b[0m\u001b[0m\n\u001b[0m\u001b[0;32m   1147\u001b[0m \u001b[1;33m\u001b[0m\u001b[0m\n\u001b[0;32m   1148\u001b[0m     \u001b[1;32mdef\u001b[0m \u001b[0mcopy\u001b[0m\u001b[1;33m(\u001b[0m\u001b[0mself\u001b[0m\u001b[1;33m)\u001b[0m\u001b[1;33m:\u001b[0m\u001b[1;33m\u001b[0m\u001b[1;33m\u001b[0m\u001b[0m\n",
      "\u001b[1;32m~\\miniconda3\\envs\\MachineLearning\\lib\\site-packages\\xgboost\\core.py\u001b[0m in \u001b[0;36m__init__\u001b[1;34m(self, params, cache, model_file)\u001b[0m\n\u001b[0;32m   1027\u001b[0m             \u001b[1;31m# We use the pickle interface for getting memory snapshot from\u001b[0m\u001b[1;33m\u001b[0m\u001b[1;33m\u001b[0m\u001b[1;33m\u001b[0m\u001b[0m\n\u001b[0;32m   1028\u001b[0m             \u001b[1;31m# another model, and load the snapshot with this booster.\u001b[0m\u001b[1;33m\u001b[0m\u001b[1;33m\u001b[0m\u001b[1;33m\u001b[0m\u001b[0m\n\u001b[1;32m-> 1029\u001b[1;33m             \u001b[0mstate\u001b[0m \u001b[1;33m=\u001b[0m \u001b[0mmodel_file\u001b[0m\u001b[1;33m.\u001b[0m\u001b[0m__getstate__\u001b[0m\u001b[1;33m(\u001b[0m\u001b[1;33m)\u001b[0m\u001b[1;33m\u001b[0m\u001b[1;33m\u001b[0m\u001b[0m\n\u001b[0m\u001b[0;32m   1030\u001b[0m             \u001b[0mhandle\u001b[0m \u001b[1;33m=\u001b[0m \u001b[0mstate\u001b[0m\u001b[1;33m[\u001b[0m\u001b[1;34m'handle'\u001b[0m\u001b[1;33m]\u001b[0m\u001b[1;33m\u001b[0m\u001b[1;33m\u001b[0m\u001b[0m\n\u001b[0;32m   1031\u001b[0m             \u001b[1;32mdel\u001b[0m \u001b[0mstate\u001b[0m\u001b[1;33m[\u001b[0m\u001b[1;34m'handle'\u001b[0m\u001b[1;33m]\u001b[0m\u001b[1;33m\u001b[0m\u001b[1;33m\u001b[0m\u001b[0m\n",
      "\u001b[1;32m~\\miniconda3\\envs\\MachineLearning\\lib\\site-packages\\xgboost\\core.py\u001b[0m in \u001b[0;36m__getstate__\u001b[1;34m(self)\u001b[0m\n\u001b[0;32m   1054\u001b[0m             \u001b[0mlength\u001b[0m \u001b[1;33m=\u001b[0m \u001b[0mc_bst_ulong\u001b[0m\u001b[1;33m(\u001b[0m\u001b[1;33m)\u001b[0m\u001b[1;33m\u001b[0m\u001b[1;33m\u001b[0m\u001b[0m\n\u001b[0;32m   1055\u001b[0m             \u001b[0mcptr\u001b[0m \u001b[1;33m=\u001b[0m \u001b[0mctypes\u001b[0m\u001b[1;33m.\u001b[0m\u001b[0mPOINTER\u001b[0m\u001b[1;33m(\u001b[0m\u001b[0mctypes\u001b[0m\u001b[1;33m.\u001b[0m\u001b[0mc_char\u001b[0m\u001b[1;33m)\u001b[0m\u001b[1;33m(\u001b[0m\u001b[1;33m)\u001b[0m\u001b[1;33m\u001b[0m\u001b[1;33m\u001b[0m\u001b[0m\n\u001b[1;32m-> 1056\u001b[1;33m             _check_call(_LIB.XGBoosterSerializeToBuffer(self.handle,\n\u001b[0m\u001b[0;32m   1057\u001b[0m                                                         \u001b[0mctypes\u001b[0m\u001b[1;33m.\u001b[0m\u001b[0mbyref\u001b[0m\u001b[1;33m(\u001b[0m\u001b[0mlength\u001b[0m\u001b[1;33m)\u001b[0m\u001b[1;33m,\u001b[0m\u001b[1;33m\u001b[0m\u001b[1;33m\u001b[0m\u001b[0m\n\u001b[0;32m   1058\u001b[0m                                                         ctypes.byref(cptr)))\n",
      "\u001b[1;31mKeyboardInterrupt\u001b[0m: "
     ]
    }
   ],
   "metadata": {}
  },
  {
   "cell_type": "code",
   "execution_count": null,
   "source": [
    "importance_dfs[0].sort_values('mean_importances', ascending = False)"
   ],
   "outputs": [
    {
     "output_type": "execute_result",
     "data": {
      "text/plain": [
       "  feature_name  mean_importances electrode\n",
       "2    14-29|Fp1          1.567244       Fp1\n",
       "7    30-47|Fp2          1.315578       Fp2\n",
       "3    30-47|Fp1          1.306292       Fp1\n",
       "4      3-7|Fp2          1.240075       Fp2\n",
       "6    14-29|Fp2          1.218384       Fp2\n",
       "5     8-13|Fp2          1.128395       Fp2\n",
       "0      3-7|Fp1          1.114455       Fp1\n",
       "1     8-13|Fp1          1.109576       Fp1"
      ],
      "text/html": [
       "<div>\n",
       "<style scoped>\n",
       "    .dataframe tbody tr th:only-of-type {\n",
       "        vertical-align: middle;\n",
       "    }\n",
       "\n",
       "    .dataframe tbody tr th {\n",
       "        vertical-align: top;\n",
       "    }\n",
       "\n",
       "    .dataframe thead th {\n",
       "        text-align: right;\n",
       "    }\n",
       "</style>\n",
       "<table border=\"1\" class=\"dataframe\">\n",
       "  <thead>\n",
       "    <tr style=\"text-align: right;\">\n",
       "      <th></th>\n",
       "      <th>feature_name</th>\n",
       "      <th>mean_importances</th>\n",
       "      <th>electrode</th>\n",
       "    </tr>\n",
       "  </thead>\n",
       "  <tbody>\n",
       "    <tr>\n",
       "      <th>2</th>\n",
       "      <td>14-29|Fp1</td>\n",
       "      <td>1.567244</td>\n",
       "      <td>Fp1</td>\n",
       "    </tr>\n",
       "    <tr>\n",
       "      <th>7</th>\n",
       "      <td>30-47|Fp2</td>\n",
       "      <td>1.315578</td>\n",
       "      <td>Fp2</td>\n",
       "    </tr>\n",
       "    <tr>\n",
       "      <th>3</th>\n",
       "      <td>30-47|Fp1</td>\n",
       "      <td>1.306292</td>\n",
       "      <td>Fp1</td>\n",
       "    </tr>\n",
       "    <tr>\n",
       "      <th>4</th>\n",
       "      <td>3-7|Fp2</td>\n",
       "      <td>1.240075</td>\n",
       "      <td>Fp2</td>\n",
       "    </tr>\n",
       "    <tr>\n",
       "      <th>6</th>\n",
       "      <td>14-29|Fp2</td>\n",
       "      <td>1.218384</td>\n",
       "      <td>Fp2</td>\n",
       "    </tr>\n",
       "    <tr>\n",
       "      <th>5</th>\n",
       "      <td>8-13|Fp2</td>\n",
       "      <td>1.128395</td>\n",
       "      <td>Fp2</td>\n",
       "    </tr>\n",
       "    <tr>\n",
       "      <th>0</th>\n",
       "      <td>3-7|Fp1</td>\n",
       "      <td>1.114455</td>\n",
       "      <td>Fp1</td>\n",
       "    </tr>\n",
       "    <tr>\n",
       "      <th>1</th>\n",
       "      <td>8-13|Fp1</td>\n",
       "      <td>1.109576</td>\n",
       "      <td>Fp1</td>\n",
       "    </tr>\n",
       "  </tbody>\n",
       "</table>\n",
       "</div>"
      ]
     },
     "metadata": {},
     "execution_count": 9
    }
   ],
   "metadata": {}
  },
  {
   "cell_type": "code",
   "execution_count": null,
   "source": [
    "importance_dfs[1].sort_values('mean_importances', ascending = False)"
   ],
   "outputs": [
    {
     "output_type": "execute_result",
     "data": {
      "text/plain": [
       "  feature_name  mean_importances electrode\n",
       "4      3-7|Fp2          1.440364       Fp2\n",
       "7    30-47|Fp2          1.384393       Fp2\n",
       "3    30-47|Fp1          1.334906       Fp1\n",
       "2    14-29|Fp1          1.301428       Fp1\n",
       "6    14-29|Fp2          1.235309       Fp2\n",
       "5     8-13|Fp2          1.144721       Fp2\n",
       "1     8-13|Fp1          1.081118       Fp1\n",
       "0      3-7|Fp1          1.077761       Fp1"
      ],
      "text/html": [
       "<div>\n",
       "<style scoped>\n",
       "    .dataframe tbody tr th:only-of-type {\n",
       "        vertical-align: middle;\n",
       "    }\n",
       "\n",
       "    .dataframe tbody tr th {\n",
       "        vertical-align: top;\n",
       "    }\n",
       "\n",
       "    .dataframe thead th {\n",
       "        text-align: right;\n",
       "    }\n",
       "</style>\n",
       "<table border=\"1\" class=\"dataframe\">\n",
       "  <thead>\n",
       "    <tr style=\"text-align: right;\">\n",
       "      <th></th>\n",
       "      <th>feature_name</th>\n",
       "      <th>mean_importances</th>\n",
       "      <th>electrode</th>\n",
       "    </tr>\n",
       "  </thead>\n",
       "  <tbody>\n",
       "    <tr>\n",
       "      <th>4</th>\n",
       "      <td>3-7|Fp2</td>\n",
       "      <td>1.440364</td>\n",
       "      <td>Fp2</td>\n",
       "    </tr>\n",
       "    <tr>\n",
       "      <th>7</th>\n",
       "      <td>30-47|Fp2</td>\n",
       "      <td>1.384393</td>\n",
       "      <td>Fp2</td>\n",
       "    </tr>\n",
       "    <tr>\n",
       "      <th>3</th>\n",
       "      <td>30-47|Fp1</td>\n",
       "      <td>1.334906</td>\n",
       "      <td>Fp1</td>\n",
       "    </tr>\n",
       "    <tr>\n",
       "      <th>2</th>\n",
       "      <td>14-29|Fp1</td>\n",
       "      <td>1.301428</td>\n",
       "      <td>Fp1</td>\n",
       "    </tr>\n",
       "    <tr>\n",
       "      <th>6</th>\n",
       "      <td>14-29|Fp2</td>\n",
       "      <td>1.235309</td>\n",
       "      <td>Fp2</td>\n",
       "    </tr>\n",
       "    <tr>\n",
       "      <th>5</th>\n",
       "      <td>8-13|Fp2</td>\n",
       "      <td>1.144721</td>\n",
       "      <td>Fp2</td>\n",
       "    </tr>\n",
       "    <tr>\n",
       "      <th>1</th>\n",
       "      <td>8-13|Fp1</td>\n",
       "      <td>1.081118</td>\n",
       "      <td>Fp1</td>\n",
       "    </tr>\n",
       "    <tr>\n",
       "      <th>0</th>\n",
       "      <td>3-7|Fp1</td>\n",
       "      <td>1.077761</td>\n",
       "      <td>Fp1</td>\n",
       "    </tr>\n",
       "  </tbody>\n",
       "</table>\n",
       "</div>"
      ]
     },
     "metadata": {},
     "execution_count": 10
    }
   ],
   "metadata": {}
  },
  {
   "cell_type": "code",
   "execution_count": null,
   "source": [
    "for i in range(final_features.shape[-1]):\r\n",
    "    print(feature_names[i])\r\n",
    "    plt.hist(final_features[:,i])\r\n",
    "    plt.show()"
   ],
   "outputs": [
    {
     "output_type": "stream",
     "name": "stdout",
     "text": [
      "3-7|Fp1\n"
     ]
    },
    {
     "output_type": "display_data",
     "data": {
      "text/plain": [
       "<Figure size 432x288 with 1 Axes>"
      ],
      "image/png": "[encoded data removed]"
     },
     "metadata": {
      "needs_background": "light"
     }
    },
    {
     "output_type": "stream",
     "name": "stdout",
     "text": [
      "8-13|Fp1\n"
     ]
    },
    {
     "output_type": "display_data",
     "data": {
      "text/plain": [
       "<Figure size 432x288 with 1 Axes>"
      ],
      "image/png": "[encoded data removed]"
     },
     "metadata": {
      "needs_background": "light"
     }
    },
    {
     "output_type": "stream",
     "name": "stdout",
     "text": [
      "14-29|Fp1\n"
     ]
    },
    {
     "output_type": "display_data",
     "data": {
      "text/plain": [
       "<Figure size 432x288 with 1 Axes>"
      ],
      "image/png": "[encoded data removed]"
     },
     "metadata": {
      "needs_background": "light"
     }
    },
    {
     "output_type": "stream",
     "name": "stdout",
     "text": [
      "30-47|Fp1\n"
     ]
    },
    {
     "output_type": "display_data",
     "data": {
      "text/plain": [
       "<Figure size 432x288 with 1 Axes>"
      ],
      "image/png": "[encoded data removed]"
     },
     "metadata": {
      "needs_background": "light"
     }
    },
    {
     "output_type": "stream",
     "name": "stdout",
     "text": [
      "3-7|Oz\n"
     ]
    },
    {
     "output_type": "display_data",
     "data": {
      "text/plain": [
       "<Figure size 432x288 with 1 Axes>"
      ],
      "image/png": "[encoded data removed]"
     },
     "metadata": {
      "needs_background": "light"
     }
    },
    {
     "output_type": "stream",
     "name": "stdout",
     "text": [
      "8-13|Oz\n"
     ]
    },
    {
     "output_type": "display_data",
     "data": {
      "text/plain": [
       "<Figure size 432x288 with 1 Axes>"
      ],
      "image/png": "[encoded data removed]"
     },
     "metadata": {
      "needs_background": "light"
     }
    },
    {
     "output_type": "stream",
     "name": "stdout",
     "text": [
      "14-29|Oz\n"
     ]
    },
    {
     "output_type": "display_data",
     "data": {
      "text/plain": [
       "<Figure size 432x288 with 1 Axes>"
      ],
      "image/png": "[encoded data removed]"
     },
     "metadata": {
      "needs_background": "light"
     }
    },
    {
     "output_type": "stream",
     "name": "stdout",
     "text": [
      "30-47|Oz\n"
     ]
    },
    {
     "output_type": "display_data",
     "data": {
      "text/plain": [
       "<Figure size 432x288 with 1 Axes>"
      ],
      "image/png": "[encoded data removed]"
     },
     "metadata": {
      "needs_background": "light"
     }
    },
    {
     "output_type": "stream",
     "name": "stdout",
     "text": [
      "3-7|Fp2\n"
     ]
    },
    {
     "output_type": "display_data",
     "data": {
      "text/plain": [
       "<Figure size 432x288 with 1 Axes>"
      ],
      "image/png": "[encoded data removed]"
     },
     "metadata": {
      "needs_background": "light"
     }
    },
    {
     "output_type": "stream",
     "name": "stdout",
     "text": [
      "8-13|Fp2\n"
     ]
    },
    {
     "output_type": "display_data",
     "data": {
      "text/plain": [
       "<Figure size 432x288 with 1 Axes>"
      ],
      "image/png": "[encoded data removed]"
     },
     "metadata": {
      "needs_background": "light"
     }
    },
    {
     "output_type": "stream",
     "name": "stdout",
     "text": [
      "14-29|Fp2\n"
     ]
    },
    {
     "output_type": "display_data",
     "data": {
      "text/plain": [
       "<Figure size 432x288 with 1 Axes>"
      ],
      "image/png": "[encoded data removed]"
     },
     "metadata": {
      "needs_background": "light"
     }
    },
    {
     "output_type": "stream",
     "name": "stdout",
     "text": [
      "30-47|Fp2\n"
     ]
    },
    {
     "output_type": "display_data",
     "data": {
      "text/plain": [
       "<Figure size 432x288 with 1 Axes>"
      ],
      "image/png": "[encoded data removed]"
     },
     "metadata": {
      "needs_background": "light"
     }
    },
    {
     "output_type": "stream",
     "name": "stdout",
     "text": [
      "3-7|T4\n"
     ]
    },
    {
     "output_type": "display_data",
     "data": {
      "text/plain": [
       "<Figure size 432x288 with 1 Axes>"
      ],
      "image/png": "[encoded data removed]"
     },
     "metadata": {
      "needs_background": "light"
     }
    },
    {
     "output_type": "stream",
     "name": "stdout",
     "text": [
      "8-13|T4\n"
     ]
    },
    {
     "output_type": "display_data",
     "data": {
      "text/plain": [
       "<Figure size 432x288 with 1 Axes>"
      ],
      "image/png": "[encoded data removed]"
     },
     "metadata": {
      "needs_background": "light"
     }
    },
    {
     "output_type": "stream",
     "name": "stdout",
     "text": [
      "14-29|T4\n"
     ]
    },
    {
     "output_type": "display_data",
     "data": {
      "text/plain": [
       "<Figure size 432x288 with 1 Axes>"
      ],
      "image/png": "[encoded data removed]"
     },
     "metadata": {
      "needs_background": "light"
     }
    },
    {
     "output_type": "stream",
     "name": "stdout",
     "text": [
      "30-47|T4\n"
     ]
    },
    {
     "output_type": "display_data",
     "data": {
      "text/plain": [
       "<Figure size 432x288 with 1 Axes>"
      ],
      "image/png": "[encoded data removed]"
     },
     "metadata": {
      "needs_background": "light"
     }
    }
   ],
   "metadata": {}
  }
 ],
 "metadata": {
  "orig_nbformat": 4,
  "language_info": {
   "name": "python",
   "version": "3.8.5",
   "mimetype": "text/x-python",
   "codemirror_mode": {
    "name": "ipython",
    "version": 3
   },
   "pygments_lexer": "ipython3",
   "nbconvert_exporter": "python",
   "file_extension": ".py"
  },
  "kernelspec": {
   "name": "python3",
   "display_name": "Python 3.8.5 64-bit ('MachineLearning': conda)"
  },
  "interpreter": {
   "hash": "04ff9afdc7d1490bf12a0db0e835ff63412e01e124c119117e88b34a3fc5e95d"
  }
 },
 "nbformat": 4,
 "nbformat_minor": 2
}