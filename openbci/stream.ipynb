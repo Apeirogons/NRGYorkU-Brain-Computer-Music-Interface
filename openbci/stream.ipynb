{
 "metadata": {
  "language_info": {
   "codemirror_mode": {
    "name": "ipython",
    "version": 3
   },
   "file_extension": ".py",
   "mimetype": "text/x-python",
   "name": "python",
   "nbconvert_exporter": "python",
   "pygments_lexer": "ipython3",
   "version": "3.8.5"
  },
  "orig_nbformat": 4,
  "kernelspec": {
   "name": "python3",
   "display_name": "Python 3.8.5 64-bit ('MachineLearning': conda)"
  },
  "interpreter": {
   "hash": "04ff9afdc7d1490bf12a0db0e835ff63412e01e124c119117e88b34a3fc5e95d"
  }
 },
 "nbformat": 4,
 "nbformat_minor": 2,
 "cells": [
  {
   "cell_type": "code",
   "execution_count": 1,
   "source": [
    "%matplotlib qt"
   ],
   "outputs": [],
   "metadata": {}
  },
  {
   "cell_type": "code",
   "execution_count": 2,
   "source": [
    "from brainflow.board_shim import BoardShim, BrainFlowInputParams, LogLevels, BoardIds\r\n",
    "from brainflow.data_filter import DataFilter, FilterTypes, AggOperations, WindowFunctions\r\n",
    "import matplotlib.pyplot as plt\r\n",
    "import numpy as np\r\n",
    "import time"
   ],
   "outputs": [],
   "metadata": {}
  },
  {
   "cell_type": "code",
   "execution_count": 3,
   "source": [
    "def moving_average(x, w):\r\n",
    "    return np.convolve(x, np.ones(w), 'valid') / w"
   ],
   "outputs": [],
   "metadata": {}
  },
  {
   "cell_type": "code",
   "execution_count": 4,
   "source": [
    "\r\n",
    "params = BrainFlowInputParams()\r\n",
    "params.serial_port='COM3' # I think? check Device Manager --> Ports\r\n",
    "board_id = BoardIds.GANGLION_BOARD.value #SYNTHETIC_BOARD\r\n",
    "sampling_rate = BoardShim.get_sampling_rate(board_id)\r\n",
    "board = BoardShim(board_id, params)\r\n",
    "board.prepare_session()\r\n",
    "board.start_stream()\r\n",
    "BoardShim.log_message(LogLevels.LEVEL_INFO.value, 'start sleeping in the main thread')\r\n",
    "\r\n",
    "fig = plt.figure(figsize=(16,8))\r\n",
    "axes = fig.add_subplot(111)\r\n",
    "plt.ion()\r\n",
    "line, = axes.plot([],[])\r\n",
    "try:\r\n",
    "    while True:\r\n",
    "        y = moving_average(np.transpose(board.get_current_board_data(2000))[:,1], 10)\r\n",
    "\r\n",
    "        x = np.arange(0, len(y))\r\n",
    "   #     line.set_ydata(y)\r\n",
    "   #     line.set_xdata(x)\r\n",
    "     #   plt.draw()\r\n",
    "     #   plt.pause(0.1)\r\n",
    "      #  time.sleep(0.1)\r\n",
    "        plt.plot(x, y)\r\n",
    "        plt.draw()\r\n",
    "        plt.pause(0.1)\r\n",
    "        time.sleep(0.1)\r\n",
    "        plt.gca().cla()\r\n",
    "    #  print(y.shape)\r\n",
    "    plt.show(block=True)\r\n",
    "except KeyboardInterrupt:\r\n",
    "\r\n",
    "    board.stop_stream()\r\n",
    "    board.release_session()\r\n"
   ],
   "outputs": [
    {
     "output_type": "error",
     "ename": "BrainFlowError",
     "evalue": "GENERAL_ERROR:17 unable to prepare streaming session",
     "traceback": [
      "\u001b[1;31m---------------------------------------------------------------------------\u001b[0m",
      "\u001b[1;31mBrainFlowError\u001b[0m                            Traceback (most recent call last)",
      "\u001b[1;32m<ipython-input-4-a9c89fd2d6a2>\u001b[0m in \u001b[0;36m<module>\u001b[1;34m\u001b[0m\n\u001b[0;32m      4\u001b[0m \u001b[0msampling_rate\u001b[0m \u001b[1;33m=\u001b[0m \u001b[0mBoardShim\u001b[0m\u001b[1;33m.\u001b[0m\u001b[0mget_sampling_rate\u001b[0m\u001b[1;33m(\u001b[0m\u001b[0mboard_id\u001b[0m\u001b[1;33m)\u001b[0m\u001b[1;33m\u001b[0m\u001b[1;33m\u001b[0m\u001b[0m\n\u001b[0;32m      5\u001b[0m \u001b[0mboard\u001b[0m \u001b[1;33m=\u001b[0m \u001b[0mBoardShim\u001b[0m\u001b[1;33m(\u001b[0m\u001b[0mboard_id\u001b[0m\u001b[1;33m,\u001b[0m \u001b[0mparams\u001b[0m\u001b[1;33m)\u001b[0m\u001b[1;33m\u001b[0m\u001b[1;33m\u001b[0m\u001b[0m\n\u001b[1;32m----> 6\u001b[1;33m \u001b[0mboard\u001b[0m\u001b[1;33m.\u001b[0m\u001b[0mprepare_session\u001b[0m\u001b[1;33m(\u001b[0m\u001b[1;33m)\u001b[0m\u001b[1;33m\u001b[0m\u001b[1;33m\u001b[0m\u001b[0m\n\u001b[0m\u001b[0;32m      7\u001b[0m \u001b[0mboard\u001b[0m\u001b[1;33m.\u001b[0m\u001b[0mstart_stream\u001b[0m\u001b[1;33m(\u001b[0m\u001b[1;33m)\u001b[0m\u001b[1;33m\u001b[0m\u001b[1;33m\u001b[0m\u001b[0m\n\u001b[0;32m      8\u001b[0m \u001b[0mBoardShim\u001b[0m\u001b[1;33m.\u001b[0m\u001b[0mlog_message\u001b[0m\u001b[1;33m(\u001b[0m\u001b[0mLogLevels\u001b[0m\u001b[1;33m.\u001b[0m\u001b[0mLEVEL_INFO\u001b[0m\u001b[1;33m.\u001b[0m\u001b[0mvalue\u001b[0m\u001b[1;33m,\u001b[0m \u001b[1;34m'start sleeping in the main thread'\u001b[0m\u001b[1;33m)\u001b[0m\u001b[1;33m\u001b[0m\u001b[1;33m\u001b[0m\u001b[0m\n",
      "\u001b[1;32m~\\miniconda3\\envs\\MachineLearning\\lib\\site-packages\\brainflow\\board_shim.py\u001b[0m in \u001b[0;36mprepare_session\u001b[1;34m(self)\u001b[0m\n\u001b[0;32m    820\u001b[0m         \u001b[0mres\u001b[0m \u001b[1;33m=\u001b[0m \u001b[0mBoardControllerDLL\u001b[0m\u001b[1;33m.\u001b[0m\u001b[0mget_instance\u001b[0m \u001b[1;33m(\u001b[0m\u001b[1;33m)\u001b[0m\u001b[1;33m.\u001b[0m\u001b[0mprepare_session\u001b[0m \u001b[1;33m(\u001b[0m\u001b[0mself\u001b[0m\u001b[1;33m.\u001b[0m\u001b[0mboard_id\u001b[0m\u001b[1;33m,\u001b[0m \u001b[0mself\u001b[0m\u001b[1;33m.\u001b[0m\u001b[0minput_json\u001b[0m\u001b[1;33m)\u001b[0m\u001b[1;33m\u001b[0m\u001b[1;33m\u001b[0m\u001b[0m\n\u001b[0;32m    821\u001b[0m         \u001b[1;32mif\u001b[0m \u001b[0mres\u001b[0m \u001b[1;33m!=\u001b[0m \u001b[0mBrainflowExitCodes\u001b[0m\u001b[1;33m.\u001b[0m\u001b[0mSTATUS_OK\u001b[0m\u001b[1;33m.\u001b[0m\u001b[0mvalue\u001b[0m\u001b[1;33m:\u001b[0m\u001b[1;33m\u001b[0m\u001b[1;33m\u001b[0m\u001b[0m\n\u001b[1;32m--> 822\u001b[1;33m             \u001b[1;32mraise\u001b[0m \u001b[0mBrainFlowError\u001b[0m \u001b[1;33m(\u001b[0m\u001b[1;34m'unable to prepare streaming session'\u001b[0m\u001b[1;33m,\u001b[0m \u001b[0mres\u001b[0m\u001b[1;33m)\u001b[0m\u001b[1;33m\u001b[0m\u001b[1;33m\u001b[0m\u001b[0m\n\u001b[0m\u001b[0;32m    823\u001b[0m \u001b[1;33m\u001b[0m\u001b[0m\n\u001b[0;32m    824\u001b[0m     \u001b[1;32mdef\u001b[0m \u001b[0mstart_stream\u001b[0m \u001b[1;33m(\u001b[0m\u001b[0mself\u001b[0m\u001b[1;33m,\u001b[0m \u001b[0mnum_samples\u001b[0m\u001b[1;33m:\u001b[0m \u001b[0mint\u001b[0m \u001b[1;33m=\u001b[0m \u001b[1;36m1800\u001b[0m \u001b[1;33m*\u001b[0m \u001b[1;36m250\u001b[0m\u001b[1;33m,\u001b[0m \u001b[0mstreamer_params\u001b[0m\u001b[1;33m:\u001b[0m \u001b[0mstr\u001b[0m \u001b[1;33m=\u001b[0m \u001b[1;32mNone\u001b[0m\u001b[1;33m)\u001b[0m \u001b[1;33m->\u001b[0m \u001b[1;32mNone\u001b[0m\u001b[1;33m:\u001b[0m\u001b[1;33m\u001b[0m\u001b[1;33m\u001b[0m\u001b[0m\n",
      "\u001b[1;31mBrainFlowError\u001b[0m: GENERAL_ERROR:17 unable to prepare streaming session"
     ]
    }
   ],
   "metadata": {
    "tags": []
   }
  },
  {
   "cell_type": "markdown",
   "source": [
    "\n",
    "params = BrainFlowInputParams()\n",
    "board_id = BoardIds.SYNTHETIC_BOARD.value\n",
    "sampling_rate = BoardShim.get_sampling_rate(board_id)\n",
    "board = BoardShim(board_id, params)\n",
    "board.prepare_session()\n",
    "board.start_stream()\n",
    "BoardShim.log_message(LogLevels.LEVEL_INFO.value, 'start sleeping in the main thread')\n",
    "\n",
    "for x in range(10):\n",
    "    data = board.get_current_board_data(1)\n",
    "    print(data)\n",
    "    time.sleep(1)\n",
    "board.stop_stream()\n",
    "board.release_session()\n",
    "#for x in range(10):\n",
    "#    data = board.get_current_board_data(1)\n",
    "#    print(data)\n",
    "#    time.sleep(1)"
   ],
   "metadata": {}
  }
 ]
}