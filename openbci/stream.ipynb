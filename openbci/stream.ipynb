{
 "metadata": {
  "language_info": {
   "codemirror_mode": {
    "name": "ipython",
    "version": 3
   },
   "file_extension": ".py",
   "mimetype": "text/x-python",
   "name": "python",
   "nbconvert_exporter": "python",
   "pygments_lexer": "ipython3",
   "version": "3.8.5"
  },
  "orig_nbformat": 4,
  "kernelspec": {
   "name": "python3",
   "display_name": "Python 3.8.5 64-bit ('MachineLearning': conda)"
  },
  "interpreter": {
   "hash": "04ff9afdc7d1490bf12a0db0e835ff63412e01e124c119117e88b34a3fc5e95d"
  }
 },
 "nbformat": 4,
 "nbformat_minor": 2,
 "cells": [
  {
   "source": [
    "%matplotlib qt"
   ],
   "cell_type": "code",
   "metadata": {},
   "execution_count": 1,
   "outputs": []
  },
  {
   "cell_type": "code",
   "execution_count": 2,
   "metadata": {},
   "outputs": [],
   "source": [
    "from brainflow.board_shim import BoardShim, BrainFlowInputParams, LogLevels, BoardIds\n",
    "from brainflow.data_filter import DataFilter, FilterTypes, AggOperations, WindowFunctions\n",
    "import matplotlib.pyplot as plt\n",
    "import numpy as np\n",
    "import time"
   ]
  },
  {
   "cell_type": "code",
   "execution_count": 3,
   "metadata": {},
   "outputs": [],
   "source": [
    "def moving_average(x, w):\n",
    "    return np.convolve(x, np.ones(w), 'valid') / w"
   ]
  },
  {
   "cell_type": "code",
   "execution_count": 4,
   "metadata": {
    "tags": []
   },
   "outputs": [],
   "source": [
    "\r\n",
    "params = BrainFlowInputParams()\r\n",
    "params.serial_port='COM3' # I think? check Device Manager --> Ports\r\n",
    "board_id = BoardIds.GANGLION_BOARD.value #SYNTHETIC_BOARD\r\n",
    "sampling_rate = BoardShim.get_sampling_rate(board_id)\r\n",
    "board = BoardShim(board_id, params)\r\n",
    "board.prepare_session()\r\n",
    "board.start_stream()\r\n",
    "BoardShim.log_message(LogLevels.LEVEL_INFO.value, 'start sleeping in the main thread')\r\n",
    "\r\n",
    "fig = plt.figure(figsize=(16,8))\r\n",
    "axes = fig.add_subplot(111)\r\n",
    "plt.ion()\r\n",
    "line, = axes.plot([],[])\r\n",
    "try:\r\n",
    "    while True:\r\n",
    "        y = moving_average(np.transpose(board.get_current_board_data(2000))[:,1], 10)\r\n",
    "\r\n",
    "        x = np.arange(0, len(y))\r\n",
    "   #     line.set_ydata(y)\r\n",
    "   #     line.set_xdata(x)\r\n",
    "     #   plt.draw()\r\n",
    "     #   plt.pause(0.1)\r\n",
    "      #  time.sleep(0.1)\r\n",
    "        plt.plot(x, y)\r\n",
    "        plt.draw()\r\n",
    "        plt.pause(0.1)\r\n",
    "        time.sleep(0.1)\r\n",
    "        plt.gca().cla()\r\n",
    "    #  print(y.shape)\r\n",
    "    plt.show(block=True)\r\n",
    "except KeyboardInterrupt:\r\n",
    "\r\n",
    "    board.stop_stream()\r\n",
    "    board.release_session()\r\n"
   ]
  },
  {
   "source": [
    "\n",
    "params = BrainFlowInputParams()\n",
    "board_id = BoardIds.SYNTHETIC_BOARD.value\n",
    "sampling_rate = BoardShim.get_sampling_rate(board_id)\n",
    "board = BoardShim(board_id, params)\n",
    "board.prepare_session()\n",
    "board.start_stream()\n",
    "BoardShim.log_message(LogLevels.LEVEL_INFO.value, 'start sleeping in the main thread')\n",
    "\n",
    "for x in range(10):\n",
    "    data = board.get_current_board_data(1)\n",
    "    print(data)\n",
    "    time.sleep(1)\n",
    "board.stop_stream()\n",
    "board.release_session()\n",
    "#for x in range(10):\n",
    "#    data = board.get_current_board_data(1)\n",
    "#    print(data)\n",
    "#    time.sleep(1)"
   ],
   "cell_type": "markdown",
   "metadata": {}
  }
 ]
}